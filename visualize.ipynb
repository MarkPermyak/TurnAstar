{
 "cells": [
  {
   "cell_type": "code",
   "execution_count": 1,
   "metadata": {},
   "outputs": [],
   "source": [
    "import numpy as np\n",
    "import pickle \n",
    "from Planners.util_funcs import *\n",
    "from Planners.Planner import Map\n",
    "\n",
    "map_np = np.load('./map.npy')"
   ]
  },
  {
   "cell_type": "code",
   "execution_count": 2,
   "metadata": {},
   "outputs": [],
   "source": [
    "with open('./Results/RES_dict.pkl', 'rb') as f:\n",
    "    RES_DICT = pickle.load(f)"
   ]
  },
  {
   "cell_type": "code",
   "execution_count": 3,
   "metadata": {},
   "outputs": [
    {
     "name": "stdout",
     "output_type": "stream",
     "text": [
      "\n",
      "Path was found : True\n",
      "Path cost : 105.0\n",
      "Steps : 2309\n",
      "Nodes created : 4340\n",
      "\n"
     ]
    },
    {
     "ename": "AttributeError",
     "evalue": "'FNode' object has no attribute 'i'",
     "output_type": "error",
     "traceback": [
      "\u001b[1;31m---------------------------------------------------------------------------\u001b[0m",
      "\u001b[1;31mAttributeError\u001b[0m                            Traceback (most recent call last)",
      "Cell \u001b[1;32mIn[3], line 25\u001b[0m\n\u001b[0;32m     17\u001b[0m \u001b[38;5;28mprint\u001b[39m(\u001b[38;5;124mf\u001b[39m\u001b[38;5;124m'''\u001b[39m\n\u001b[0;32m     18\u001b[0m \u001b[38;5;124mPath was found : \u001b[39m\u001b[38;5;132;01m{\u001b[39;00mRES_DICT[\u001b[38;5;124m'\u001b[39m\u001b[38;5;124mfound\u001b[39m\u001b[38;5;124m'\u001b[39m]\u001b[38;5;132;01m}\u001b[39;00m\n\u001b[0;32m     19\u001b[0m \u001b[38;5;124mPath cost : \u001b[39m\u001b[38;5;132;01m{\u001b[39;00mRES_DICT[\u001b[38;5;124m'\u001b[39m\u001b[38;5;124mcost\u001b[39m\u001b[38;5;124m'\u001b[39m]\u001b[38;5;132;01m}\u001b[39;00m\n\u001b[0;32m     20\u001b[0m \u001b[38;5;124mSteps : \u001b[39m\u001b[38;5;132;01m{\u001b[39;00mRES_DICT[\u001b[38;5;124m'\u001b[39m\u001b[38;5;124msteps\u001b[39m\u001b[38;5;124m'\u001b[39m]\u001b[38;5;132;01m}\u001b[39;00m\n\u001b[0;32m     21\u001b[0m \u001b[38;5;124mNodes created : \u001b[39m\u001b[38;5;132;01m{\u001b[39;00mRES_DICT[\u001b[38;5;124m'\u001b[39m\u001b[38;5;124mall_nodes\u001b[39m\u001b[38;5;124m'\u001b[39m]\u001b[38;5;132;01m}\u001b[39;00m\n\u001b[0;32m     22\u001b[0m \u001b[38;5;124m'''\u001b[39m)\n\u001b[0;32m     24\u001b[0m \u001b[38;5;28;01mif\u001b[39;00m RES_DICT[\u001b[38;5;124m'\u001b[39m\u001b[38;5;124mfound\u001b[39m\u001b[38;5;124m'\u001b[39m]:\n\u001b[1;32m---> 25\u001b[0m     draw(grid_map, start\u001b[38;5;241m=\u001b[39mstart,  path\u001b[38;5;241m=\u001b[39mpath, goal\u001b[38;5;241m=\u001b[39mRES_DICT[\u001b[38;5;124m'\u001b[39m\u001b[38;5;124mlast_node\u001b[39m\u001b[38;5;124m'\u001b[39m], nodes_expanded\u001b[38;5;241m=\u001b[39mclosed)\n",
      "File \u001b[1;32me:\\new_degree\\TurnAstar\\Planners\\util_funcs.py:60\u001b[0m, in \u001b[0;36mdraw\u001b[1;34m(grid_map, start, goal, path, nodes_opened, nodes_expanded, nodes_reexpanded, path_astar)\u001b[0m\n\u001b[0;32m     57\u001b[0m \u001b[38;5;28;01mif\u001b[39;00m (start \u001b[38;5;129;01mis\u001b[39;00m \u001b[38;5;129;01mnot\u001b[39;00m \u001b[38;5;28;01mNone\u001b[39;00m) \u001b[38;5;129;01mand\u001b[39;00m (grid_map\u001b[38;5;241m.\u001b[39mtraversable(start\u001b[38;5;241m.\u001b[39mi, start\u001b[38;5;241m.\u001b[39mj)):\n\u001b[0;32m     58\u001b[0m     draw\u001b[38;5;241m.\u001b[39mrectangle((start\u001b[38;5;241m.\u001b[39mj \u001b[38;5;241m*\u001b[39m k, start\u001b[38;5;241m.\u001b[39mi \u001b[38;5;241m*\u001b[39m k, (start\u001b[38;5;241m.\u001b[39mj \u001b[38;5;241m+\u001b[39m \u001b[38;5;241m1\u001b[39m) \u001b[38;5;241m*\u001b[39m k \u001b[38;5;241m-\u001b[39m \u001b[38;5;241m1\u001b[39m, (start\u001b[38;5;241m.\u001b[39mi \u001b[38;5;241m+\u001b[39m \u001b[38;5;241m1\u001b[39m) \u001b[38;5;241m*\u001b[39m k \u001b[38;5;241m-\u001b[39m \u001b[38;5;241m1\u001b[39m), fill\u001b[38;5;241m=\u001b[39m(\u001b[38;5;241m40\u001b[39m, \u001b[38;5;241m180\u001b[39m, \u001b[38;5;241m99\u001b[39m), width\u001b[38;5;241m=\u001b[39m\u001b[38;5;241m0\u001b[39m)\n\u001b[1;32m---> 60\u001b[0m \u001b[38;5;28;01mif\u001b[39;00m (goal \u001b[38;5;129;01mis\u001b[39;00m \u001b[38;5;129;01mnot\u001b[39;00m \u001b[38;5;28;01mNone\u001b[39;00m) \u001b[38;5;129;01mand\u001b[39;00m (grid_map\u001b[38;5;241m.\u001b[39mtraversable(goal\u001b[38;5;241m.\u001b[39mi, goal\u001b[38;5;241m.\u001b[39mj)):\n\u001b[0;32m     61\u001b[0m     draw\u001b[38;5;241m.\u001b[39mrectangle((goal\u001b[38;5;241m.\u001b[39mj \u001b[38;5;241m*\u001b[39m k, goal\u001b[38;5;241m.\u001b[39mi \u001b[38;5;241m*\u001b[39m k, (goal\u001b[38;5;241m.\u001b[39mj \u001b[38;5;241m+\u001b[39m \u001b[38;5;241m1\u001b[39m) \u001b[38;5;241m*\u001b[39m k \u001b[38;5;241m-\u001b[39m \u001b[38;5;241m1\u001b[39m, (goal\u001b[38;5;241m.\u001b[39mi \u001b[38;5;241m+\u001b[39m \u001b[38;5;241m1\u001b[39m) \u001b[38;5;241m*\u001b[39m k \u001b[38;5;241m-\u001b[39m \u001b[38;5;241m1\u001b[39m), fill\u001b[38;5;241m=\u001b[39m(\u001b[38;5;241m231\u001b[39m, \u001b[38;5;241m76\u001b[39m, \u001b[38;5;241m60\u001b[39m), width\u001b[38;5;241m=\u001b[39m\u001b[38;5;241m0\u001b[39m)\n\u001b[0;32m     64\u001b[0m _, ax \u001b[38;5;241m=\u001b[39m plt\u001b[38;5;241m.\u001b[39msubplots(dpi\u001b[38;5;241m=\u001b[39m\u001b[38;5;241m150\u001b[39m)\n",
      "\u001b[1;31mAttributeError\u001b[0m: 'FNode' object has no attribute 'i'"
     ]
    }
   ],
   "source": [
    "grid_map = Map()\n",
    "grid_map.set_grid_cells(map_np.shape[0], map_np.shape[1], map_np)\n",
    "\n",
    "try:\n",
    "    path, start = make_path(RES_DICT['last_node'].node)\n",
    "except:\n",
    "    path, start = make_path(RES_DICT['last_node'])\n",
    "\n",
    "\n",
    "closed = RES_DICT['CLOSED']\n",
    "\n",
    "try:\n",
    "    closed = {fnode.node for fnode in closed}\n",
    "except:\n",
    "    pass\n",
    "\n",
    "print(f'''\n",
    "Path was found : {RES_DICT['found']}\n",
    "Path cost : {RES_DICT['cost']}\n",
    "Steps : {RES_DICT['steps']}\n",
    "Nodes created : {RES_DICT['all_nodes']}\n",
    "''')\n",
    "\n",
    "if RES_DICT['found']:\n",
    "    try:\n",
    "        draw(grid_map, start=start,  path=path, goal=RES_DICT['last_node'].node, nodes_expanded=closed)\n",
    "    except: \n",
    "        draw(grid_map, start=start,  path=path, goal=RES_DICT['last_node'], nodes_expanded=closed)"
   ]
  }
 ],
 "metadata": {
  "kernelspec": {
   "display_name": "Python 3",
   "language": "python",
   "name": "python3"
  },
  "language_info": {
   "codemirror_mode": {
    "name": "ipython",
    "version": 3
   },
   "file_extension": ".py",
   "mimetype": "text/x-python",
   "name": "python",
   "nbconvert_exporter": "python",
   "pygments_lexer": "ipython3",
   "version": "3.11.9"
  }
 },
 "nbformat": 4,
 "nbformat_minor": 2
}
